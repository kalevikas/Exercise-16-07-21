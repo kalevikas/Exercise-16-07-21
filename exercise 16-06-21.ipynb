{
 "cells": [
  {
   "cell_type": "markdown",
   "id": "e22246ac",
   "metadata": {},
   "source": [
    "# Write a function to find max value from given list"
   ]
  },
  {
   "cell_type": "markdown",
   "id": "4f8d0b65",
   "metadata": {},
   "source": [
    "def max_value():\n",
    "    numbers = [1, 2, 3, 100, 2, 99, 102, 55]\n",
    "    \n",
    "    # Write your logic here\n",
    "    # return max value -> here max value is 102"
   ]
  },
  {
   "cell_type": "code",
   "execution_count": 1,
   "id": "9776321b",
   "metadata": {},
   "outputs": [
    {
     "name": "stdout",
     "output_type": "stream",
     "text": [
      "Max number is :  102\n"
     ]
    }
   ],
   "source": [
    "def max_value():\n",
    "    numbers = [1, 2, 3, 100, 2, 99, 102, 55]\n",
    "    max=0  # Initially max =0 For first iteration max=1 for second iteration max =2 and so on.when max =102\n",
    "    for i in numbers:\n",
    "        if i > max: # 55> max which is 102 , this condition is false\n",
    "            max=i\n",
    "    print(\"Max number is : \",max)  # when if condition is false print this\n",
    "            \n",
    "max_value()"
   ]
  },
  {
   "cell_type": "code",
   "execution_count": 2,
   "id": "c22b1f1e",
   "metadata": {},
   "outputs": [
    {
     "name": "stdout",
     "output_type": "stream",
     "text": [
      "Max number is :  400\n"
     ]
    }
   ],
   "source": [
    "def max_value():\n",
    "    numbers = [1, 400, 3, 100, 2, 99, 102, 55]\n",
    "    max=0  # Initially max =0 For first iteration max=1 for second iteration max =2 and so on.when max =102\n",
    "    for i in numbers:\n",
    "        if i > max: # 55> max which is 102 , this condition is false\n",
    "            max=i\n",
    "    print(\"Max number is : \",max)  # when if condition is false print this\n",
    "            \n",
    "max_value()"
   ]
  },
  {
   "cell_type": "markdown",
   "id": "69f7eb81",
   "metadata": {},
   "source": [
    "# Write a function to find second max value from given list"
   ]
  },
  {
   "cell_type": "markdown",
   "id": "0ff7cf0b",
   "metadata": {},
   "source": [
    "def second_max_value():\n",
    "    numbers = [1, 2, 3, 100, 2, 99, 102, 55]\n",
    "    \n",
    "    # Write your logic here\n",
    "    # return max value -> here max value is 100"
   ]
  },
  {
   "cell_type": "code",
   "execution_count": 3,
   "id": "a10835d2",
   "metadata": {},
   "outputs": [
    {
     "name": "stdout",
     "output_type": "stream",
     "text": [
      "Second max number is :  100\n"
     ]
    }
   ],
   "source": [
    "def second_max_value():\n",
    "    numbers = [1,2,3,100,2,99,102,55]\n",
    "    second_max_value=0\n",
    "    max=0\n",
    "    \n",
    "    for i in range(len(numbers)):   #length of numbers=8\n",
    "        if (numbers[i] >= max):     # for first iteration numbers[i]=1 and max=1 this condition is true,\n",
    "            second_max=max           # second_max=1 and max=1\n",
    "            max=numbers[i]           # max=1 and numbers[i]=2 then for loop continues till max=102 and numbers[i]=55 then the if condition false\n",
    "        elif (numbers[i] >= second_max and numbers[i] <= max): \n",
    "            second_max = numbers[i] \n",
    "    print(\"Second max number is : \",second_max)\n",
    "second_max_value()"
   ]
  },
  {
   "cell_type": "code",
   "execution_count": 4,
   "id": "d6cd6eec",
   "metadata": {},
   "outputs": [
    {
     "name": "stdout",
     "output_type": "stream",
     "text": [
      "Second max number is :  200\n"
     ]
    }
   ],
   "source": [
    "def second_max_value():\n",
    "    numbers = [1,200,3,100,2,480,102,55]\n",
    "    second_max_value=0\n",
    "    max=0\n",
    "    \n",
    "    for i in range(len(numbers)):   #length of numbers=8\n",
    "        if (numbers[i] >= max):     # for first iteration numbers[i]=1 and max=1 this condition is true,\n",
    "            second_max=max           # second_max=1 and max=1\n",
    "            max=numbers[i]           # max=1 and numbers[i]=2 then for loop continues till max=102 and numbers[i]=55 then the if condition false\n",
    "        elif (numbers[i] >= second_max and numbers[i] <= max): \n",
    "            second_max = numbers[i] \n",
    "    print(\"Second max number is : \",second_max)\n",
    "second_max_value()"
   ]
  },
  {
   "cell_type": "code",
   "execution_count": 6,
   "id": "afa7f09a",
   "metadata": {},
   "outputs": [
    {
     "name": "stdout",
     "output_type": "stream",
     "text": [
      "The Largest Element in this List is :  800\n",
      "The Second Largest Element in this List is :  625\n"
     ]
    }
   ],
   "source": [
    "num=[45,800,102,188,625,420]\n",
    "max = second_max = num[0]\n",
    "for i in range(len(num)):\n",
    "    if (num[i] > max):\n",
    "        second_max = max\n",
    "        max=num[i]\n",
    "    elif (num[i] > second_max and num[i] < max):\n",
    "        second_max = num[i]\n",
    "print(\"The Largest Element in this List is : \", max)\n",
    "print(\"The Second Largest Element in this List is : \", second_max)"
   ]
  },
  {
   "cell_type": "code",
   "execution_count": null,
   "id": "b7736193",
   "metadata": {},
   "outputs": [],
   "source": []
  }
 ],
 "metadata": {
  "kernelspec": {
   "display_name": "Python 3",
   "language": "python",
   "name": "python3"
  },
  "language_info": {
   "codemirror_mode": {
    "name": "ipython",
    "version": 3
   },
   "file_extension": ".py",
   "mimetype": "text/x-python",
   "name": "python",
   "nbconvert_exporter": "python",
   "pygments_lexer": "ipython3",
   "version": "3.8.8"
  }
 },
 "nbformat": 4,
 "nbformat_minor": 5
}
